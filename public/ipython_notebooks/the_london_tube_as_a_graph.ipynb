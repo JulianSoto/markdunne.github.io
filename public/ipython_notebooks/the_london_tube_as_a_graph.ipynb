{
 "cells": [
  {
   "cell_type": "markdown",
   "metadata": {},
   "source": [
    "# The London Tube as a Graph"
   ]
  },
  {
   "cell_type": "markdown",
   "metadata": {},
   "source": [
    "Representing a rail network as a graph is nothing new, its the most obvious way to do it. Nodes are the stations and edges are the lines between them. But what happens when you apply algorithms like PageSort to the graph? Will it be able to pick out the stations a human would intuitively pick out as important? Lets find out"
   ]
  },
  {
   "cell_type": "markdown",
   "metadata": {},
   "source": [
    "Imports first, I'll use NetworkX as the graph library. It seems to be the easiest and most full featured library around."
   ]
  },
  {
   "cell_type": "code",
   "execution_count": 1,
   "metadata": {
    "collapsed": false
   },
   "outputs": [],
   "source": [
    "%matplotlib inline\n",
    "\n",
    "import numpy as np\n",
    "import pandas as pd\n",
    "import networkx as nx\n",
    "import matplotlib.pyplot as plt\n",
    "from collections import Counter\n",
    "\n",
    "pd.set_option('max_colwidth', 200)"
   ]
  },
  {
   "cell_type": "markdown",
   "metadata": {},
   "source": [
    "I found it suprisingly hard to find to find a nicely structured dataset of stations and connections between them. Luckily [this library](https://github.com/nicola/tubemaps) had some CSVs buried in it with just want I was looking for. So i yanked them out and opened them in pandas"
   ]
  },
  {
   "cell_type": "code",
   "execution_count": 2,
   "metadata": {
    "collapsed": false
   },
   "outputs": [],
   "source": [
    "lines       = pd.read_csv('london.lines.csv', index_col=0)\n",
    "stations    = pd.read_csv('london.stations.csv', index_col=0)\n",
    "connections = pd.read_csv('london.connections.csv')"
   ]
  },
  {
   "cell_type": "markdown",
   "metadata": {},
   "source": [
    "Look at the nice data! Some of it is probably out of date, but not in any major way."
   ]
  },
  {
   "cell_type": "code",
   "execution_count": 3,
   "metadata": {
    "collapsed": false
   },
   "outputs": [
    {
     "data": {
      "text/html": [
       "<div>\n",
       "<table border=\"1\" class=\"dataframe\">\n",
       "  <thead>\n",
       "    <tr style=\"text-align: right;\">\n",
       "      <th></th>\n",
       "      <th>name</th>\n",
       "      <th>colour</th>\n",
       "      <th>stripe</th>\n",
       "    </tr>\n",
       "    <tr>\n",
       "      <th>line</th>\n",
       "      <th></th>\n",
       "      <th></th>\n",
       "      <th></th>\n",
       "    </tr>\n",
       "  </thead>\n",
       "  <tbody>\n",
       "    <tr>\n",
       "      <th>1</th>\n",
       "      <td>Bakerloo Line</td>\n",
       "      <td>AE6017</td>\n",
       "      <td>NaN</td>\n",
       "    </tr>\n",
       "    <tr>\n",
       "      <th>3</th>\n",
       "      <td>Circle Line</td>\n",
       "      <td>FFE02B</td>\n",
       "      <td>NaN</td>\n",
       "    </tr>\n",
       "    <tr>\n",
       "      <th>6</th>\n",
       "      <td>Hammersmith &amp; City Line</td>\n",
       "      <td>F491A8</td>\n",
       "      <td>NaN</td>\n",
       "    </tr>\n",
       "  </tbody>\n",
       "</table>\n",
       "</div>"
      ],
      "text/plain": [
       "                         name  colour stripe\n",
       "line                                        \n",
       "1               Bakerloo Line  AE6017    NaN\n",
       "3                 Circle Line  FFE02B    NaN\n",
       "6     Hammersmith & City Line  F491A8    NaN"
      ]
     },
     "execution_count": 3,
     "metadata": {},
     "output_type": "execute_result"
    }
   ],
   "source": [
    "lines.head(3)"
   ]
  },
  {
   "cell_type": "code",
   "execution_count": 4,
   "metadata": {
    "collapsed": false
   },
   "outputs": [
    {
     "data": {
      "text/html": [
       "<div>\n",
       "<table border=\"1\" class=\"dataframe\">\n",
       "  <thead>\n",
       "    <tr style=\"text-align: right;\">\n",
       "      <th></th>\n",
       "      <th>latitude</th>\n",
       "      <th>longitude</th>\n",
       "      <th>name</th>\n",
       "      <th>display_name</th>\n",
       "      <th>zone</th>\n",
       "      <th>total_lines</th>\n",
       "      <th>rail</th>\n",
       "    </tr>\n",
       "    <tr>\n",
       "      <th>id</th>\n",
       "      <th></th>\n",
       "      <th></th>\n",
       "      <th></th>\n",
       "      <th></th>\n",
       "      <th></th>\n",
       "      <th></th>\n",
       "      <th></th>\n",
       "    </tr>\n",
       "  </thead>\n",
       "  <tbody>\n",
       "    <tr>\n",
       "      <th>1</th>\n",
       "      <td>51.5028</td>\n",
       "      <td>-0.2801</td>\n",
       "      <td>Acton Town</td>\n",
       "      <td>Acton&lt;br /&gt;Town</td>\n",
       "      <td>3</td>\n",
       "      <td>2</td>\n",
       "      <td>0</td>\n",
       "    </tr>\n",
       "    <tr>\n",
       "      <th>2</th>\n",
       "      <td>51.5143</td>\n",
       "      <td>-0.0755</td>\n",
       "      <td>Aldgate</td>\n",
       "      <td>NaN</td>\n",
       "      <td>1</td>\n",
       "      <td>2</td>\n",
       "      <td>0</td>\n",
       "    </tr>\n",
       "    <tr>\n",
       "      <th>3</th>\n",
       "      <td>51.5154</td>\n",
       "      <td>-0.0726</td>\n",
       "      <td>Aldgate East</td>\n",
       "      <td>Aldgate&lt;br /&gt;East</td>\n",
       "      <td>1</td>\n",
       "      <td>2</td>\n",
       "      <td>0</td>\n",
       "    </tr>\n",
       "  </tbody>\n",
       "</table>\n",
       "</div>"
      ],
      "text/plain": [
       "    latitude  longitude          name       display_name  zone  total_lines  \\\n",
       "id                                                                            \n",
       "1    51.5028    -0.2801    Acton Town    Acton<br />Town     3            2   \n",
       "2    51.5143    -0.0755       Aldgate                NaN     1            2   \n",
       "3    51.5154    -0.0726  Aldgate East  Aldgate<br />East     1            2   \n",
       "\n",
       "    rail  \n",
       "id        \n",
       "1      0  \n",
       "2      0  \n",
       "3      0  "
      ]
     },
     "execution_count": 4,
     "metadata": {},
     "output_type": "execute_result"
    }
   ],
   "source": [
    "stations.head(3)"
   ]
  },
  {
   "cell_type": "code",
   "execution_count": 5,
   "metadata": {
    "collapsed": true
   },
   "outputs": [],
   "source": [
    "#drop station display_name for the future, its an ugly column\n",
    "stations.drop('display_name', axis=1, inplace=True)"
   ]
  },
  {
   "cell_type": "code",
   "execution_count": 6,
   "metadata": {
    "collapsed": false
   },
   "outputs": [
    {
     "data": {
      "text/html": [
       "<div>\n",
       "<table border=\"1\" class=\"dataframe\">\n",
       "  <thead>\n",
       "    <tr style=\"text-align: right;\">\n",
       "      <th></th>\n",
       "      <th>station1</th>\n",
       "      <th>station2</th>\n",
       "      <th>line</th>\n",
       "      <th>time</th>\n",
       "    </tr>\n",
       "  </thead>\n",
       "  <tbody>\n",
       "    <tr>\n",
       "      <th>0</th>\n",
       "      <td>11</td>\n",
       "      <td>163</td>\n",
       "      <td>1</td>\n",
       "      <td>1</td>\n",
       "    </tr>\n",
       "    <tr>\n",
       "      <th>1</th>\n",
       "      <td>11</td>\n",
       "      <td>212</td>\n",
       "      <td>1</td>\n",
       "      <td>2</td>\n",
       "    </tr>\n",
       "    <tr>\n",
       "      <th>2</th>\n",
       "      <td>49</td>\n",
       "      <td>87</td>\n",
       "      <td>1</td>\n",
       "      <td>1</td>\n",
       "    </tr>\n",
       "  </tbody>\n",
       "</table>\n",
       "</div>"
      ],
      "text/plain": [
       "   station1  station2  line  time\n",
       "0        11       163     1     1\n",
       "1        11       212     1     2\n",
       "2        49        87     1     1"
      ]
     },
     "execution_count": 6,
     "metadata": {},
     "output_type": "execute_result"
    }
   ],
   "source": [
    "connections.head(3)"
   ]
  },
  {
   "cell_type": "markdown",
   "metadata": {},
   "source": [
    "We can create a naive graph super easily from this."
   ]
  },
  {
   "cell_type": "markdown",
   "metadata": {},
   "source": [
    "## A simplified graph"
   ]
  },
  {
   "cell_type": "code",
   "execution_count": 7,
   "metadata": {
    "collapsed": false
   },
   "outputs": [],
   "source": [
    "graph = nx.Graph()\n",
    "\n",
    "for connection_id, connection in connections.iterrows():\n",
    "    station1_name = stations.ix[connection['station1']]['name']\n",
    "    station2_name = stations.ix[connection['station2']]['name']\n",
    "    graph.add_edge(station1_name, station2_name, time = connection['time'])\n",
    "    \n",
    "#add the connection between Bank and Monument manually\n",
    "graph.add_edge('Bank', 'Monument', time = 1)"
   ]
  },
  {
   "cell_type": "markdown",
   "metadata": {},
   "source": [
    "Already we can do some kind of interesting stuff, like get a reasonable path between Oxford Circus and Canary Wharf"
   ]
  },
  {
   "cell_type": "code",
   "execution_count": 8,
   "metadata": {
    "collapsed": false
   },
   "outputs": [
    {
     "data": {
      "text/plain": [
       "['Oxford Circus',\n",
       " 'Tottenham Court Road',\n",
       " 'Holborn',\n",
       " 'Chancery Lane',\n",
       " \"St. Paul's\",\n",
       " 'Bank',\n",
       " 'Shadwell',\n",
       " 'Wapping',\n",
       " 'Rotherhithe',\n",
       " 'Canada Water',\n",
       " 'Canary Wharf']"
      ]
     },
     "execution_count": 8,
     "metadata": {},
     "output_type": "execute_result"
    }
   ],
   "source": [
    "nx.shortest_path(graph, 'Oxford Circus', 'Canary Wharf', weight='time')"
   ]
  },
  {
   "cell_type": "markdown",
   "metadata": {},
   "source": [
    "And run PageRank on the network!"
   ]
  },
  {
   "cell_type": "code",
   "execution_count": 9,
   "metadata": {
    "collapsed": false
   },
   "outputs": [],
   "source": [
    "pagerank = nx.pagerank_numpy(graph)\n",
    "pagerank = pd.DataFrame(pagerank.items(), columns=['name', 'pagerank'])\n",
    "stations = pd.merge(stations, pagerank, on='name', right_index=True)"
   ]
  },
  {
   "cell_type": "code",
   "execution_count": 10,
   "metadata": {
    "collapsed": false
   },
   "outputs": [
    {
     "data": {
      "text/html": [
       "<div>\n",
       "<table border=\"1\" class=\"dataframe\">\n",
       "  <thead>\n",
       "    <tr style=\"text-align: right;\">\n",
       "      <th></th>\n",
       "      <th>latitude</th>\n",
       "      <th>longitude</th>\n",
       "      <th>name</th>\n",
       "      <th>zone</th>\n",
       "      <th>total_lines</th>\n",
       "      <th>rail</th>\n",
       "      <th>pagerank</th>\n",
       "    </tr>\n",
       "    <tr>\n",
       "      <th>id</th>\n",
       "      <th></th>\n",
       "      <th></th>\n",
       "      <th></th>\n",
       "      <th></th>\n",
       "      <th></th>\n",
       "      <th></th>\n",
       "      <th></th>\n",
       "    </tr>\n",
       "  </thead>\n",
       "  <tbody>\n",
       "    <tr>\n",
       "      <th>145</th>\n",
       "      <td>51.5308</td>\n",
       "      <td>-0.1238</td>\n",
       "      <td>King's Cross St. Pancras</td>\n",
       "      <td>1.0</td>\n",
       "      <td>6</td>\n",
       "      <td>1</td>\n",
       "      <td>0.007915</td>\n",
       "    </tr>\n",
       "    <tr>\n",
       "      <th>11</th>\n",
       "      <td>51.5226</td>\n",
       "      <td>-0.1571</td>\n",
       "      <td>Baker Street</td>\n",
       "      <td>1.0</td>\n",
       "      <td>5</td>\n",
       "      <td>0</td>\n",
       "      <td>0.007613</td>\n",
       "    </tr>\n",
       "    <tr>\n",
       "      <th>13</th>\n",
       "      <td>51.5133</td>\n",
       "      <td>-0.0886</td>\n",
       "      <td>Bank</td>\n",
       "      <td>1.0</td>\n",
       "      <td>4</td>\n",
       "      <td>0</td>\n",
       "      <td>0.007140</td>\n",
       "    </tr>\n",
       "    <tr>\n",
       "      <th>74</th>\n",
       "      <td>51.4920</td>\n",
       "      <td>-0.1973</td>\n",
       "      <td>Earl's Court</td>\n",
       "      <td>1.5</td>\n",
       "      <td>2</td>\n",
       "      <td>0</td>\n",
       "      <td>0.007047</td>\n",
       "    </tr>\n",
       "    <tr>\n",
       "      <th>193</th>\n",
       "      <td>51.5154</td>\n",
       "      <td>-0.1755</td>\n",
       "      <td>Paddington</td>\n",
       "      <td>1.0</td>\n",
       "      <td>4</td>\n",
       "      <td>1</td>\n",
       "      <td>0.006178</td>\n",
       "    </tr>\n",
       "    <tr>\n",
       "      <th>265</th>\n",
       "      <td>51.4951</td>\n",
       "      <td>-0.2547</td>\n",
       "      <td>Turnham Green</td>\n",
       "      <td>2.5</td>\n",
       "      <td>2</td>\n",
       "      <td>0</td>\n",
       "      <td>0.006108</td>\n",
       "    </tr>\n",
       "    <tr>\n",
       "      <th>279</th>\n",
       "      <td>51.5036</td>\n",
       "      <td>-0.1143</td>\n",
       "      <td>Waterloo</td>\n",
       "      <td>1.0</td>\n",
       "      <td>4</td>\n",
       "      <td>1</td>\n",
       "      <td>0.006082</td>\n",
       "    </tr>\n",
       "    <tr>\n",
       "      <th>107</th>\n",
       "      <td>51.5067</td>\n",
       "      <td>-0.1428</td>\n",
       "      <td>Green Park</td>\n",
       "      <td>1.0</td>\n",
       "      <td>3</td>\n",
       "      <td>0</td>\n",
       "      <td>0.005852</td>\n",
       "    </tr>\n",
       "    <tr>\n",
       "      <th>225</th>\n",
       "      <td>51.5117</td>\n",
       "      <td>-0.0560</td>\n",
       "      <td>Shadwell</td>\n",
       "      <td>2.0</td>\n",
       "      <td>2</td>\n",
       "      <td>0</td>\n",
       "      <td>0.005845</td>\n",
       "    </tr>\n",
       "    <tr>\n",
       "      <th>192</th>\n",
       "      <td>51.5150</td>\n",
       "      <td>-0.1415</td>\n",
       "      <td>Oxford Circus</td>\n",
       "      <td>1.0</td>\n",
       "      <td>3</td>\n",
       "      <td>0</td>\n",
       "      <td>0.005757</td>\n",
       "    </tr>\n",
       "  </tbody>\n",
       "</table>\n",
       "</div>"
      ],
      "text/plain": [
       "     latitude  longitude                      name  zone  total_lines  rail  \\\n",
       "id                                                                            \n",
       "145   51.5308    -0.1238  King's Cross St. Pancras   1.0            6     1   \n",
       "11    51.5226    -0.1571              Baker Street   1.0            5     0   \n",
       "13    51.5133    -0.0886                      Bank   1.0            4     0   \n",
       "74    51.4920    -0.1973              Earl's Court   1.5            2     0   \n",
       "193   51.5154    -0.1755                Paddington   1.0            4     1   \n",
       "265   51.4951    -0.2547             Turnham Green   2.5            2     0   \n",
       "279   51.5036    -0.1143                  Waterloo   1.0            4     1   \n",
       "107   51.5067    -0.1428                Green Park   1.0            3     0   \n",
       "225   51.5117    -0.0560                  Shadwell   2.0            2     0   \n",
       "192   51.5150    -0.1415             Oxford Circus   1.0            3     0   \n",
       "\n",
       "     pagerank  \n",
       "id             \n",
       "145  0.007915  \n",
       "11   0.007613  \n",
       "13   0.007140  \n",
       "74   0.007047  \n",
       "193  0.006178  \n",
       "265  0.006108  \n",
       "279  0.006082  \n",
       "107  0.005852  \n",
       "225  0.005845  \n",
       "192  0.005757  "
      ]
     },
     "execution_count": 10,
     "metadata": {},
     "output_type": "execute_result"
    }
   ],
   "source": [
    "stations.sort_values('pagerank', ascending=False).head(10)"
   ]
  },
  {
   "cell_type": "markdown",
   "metadata": {},
   "source": [
    "Those results look incredibly good considering how little work we've put in! With the exception of Turnham Green, this seems like a very reasonable list of the most important tube stations in London. And this is all without taking into account the Overground network, or looking at any traffic stats!"
   ]
  },
  {
   "cell_type": "markdown",
   "metadata": {},
   "source": [
    "NetworkX also implements the [HITS algorithm](https://en.wikipedia.org/wiki/HITS_algorithm). It was originally designed to differenciate between web pages which acted as hubs of information and those which acted as authoritive sourves of information. It does this by looking at incoming and outgoing edges from each node. In an undirected graph (like we're using), incoming  and outgoing edges are the same, but the results I found when I applied it to the Tube graph were quite interesting!"
   ]
  },
  {
   "cell_type": "code",
   "execution_count": 11,
   "metadata": {
    "collapsed": false
   },
   "outputs": [],
   "source": [
    "hits = nx.hits_scipy(graph, max_iter=1000)[0]\n",
    "hits = pd.DataFrame(hits.items(), columns=['name', 'hits'])\n",
    "stations = pd.merge(stations, hits, on='name', right_index=True)"
   ]
  },
  {
   "cell_type": "code",
   "execution_count": 12,
   "metadata": {
    "collapsed": false
   },
   "outputs": [
    {
     "data": {
      "text/html": [
       "<div>\n",
       "<table border=\"1\" class=\"dataframe\">\n",
       "  <thead>\n",
       "    <tr style=\"text-align: right;\">\n",
       "      <th></th>\n",
       "      <th>latitude</th>\n",
       "      <th>longitude</th>\n",
       "      <th>name</th>\n",
       "      <th>zone</th>\n",
       "      <th>total_lines</th>\n",
       "      <th>rail</th>\n",
       "      <th>pagerank</th>\n",
       "      <th>hits</th>\n",
       "    </tr>\n",
       "    <tr>\n",
       "      <th>id</th>\n",
       "      <th></th>\n",
       "      <th></th>\n",
       "      <th></th>\n",
       "      <th></th>\n",
       "      <th></th>\n",
       "      <th></th>\n",
       "      <th></th>\n",
       "      <th></th>\n",
       "    </tr>\n",
       "  </thead>\n",
       "  <tbody>\n",
       "    <tr>\n",
       "      <th>192</th>\n",
       "      <td>51.5150</td>\n",
       "      <td>-0.1415</td>\n",
       "      <td>Oxford Circus</td>\n",
       "      <td>1</td>\n",
       "      <td>3</td>\n",
       "      <td>0</td>\n",
       "      <td>0.005757</td>\n",
       "      <td>0.059742</td>\n",
       "    </tr>\n",
       "    <tr>\n",
       "      <th>107</th>\n",
       "      <td>51.5067</td>\n",
       "      <td>-0.1428</td>\n",
       "      <td>Green Park</td>\n",
       "      <td>1</td>\n",
       "      <td>3</td>\n",
       "      <td>0</td>\n",
       "      <td>0.005852</td>\n",
       "      <td>0.059523</td>\n",
       "    </tr>\n",
       "    <tr>\n",
       "      <th>197</th>\n",
       "      <td>51.5098</td>\n",
       "      <td>-0.1342</td>\n",
       "      <td>Picadilly Circus</td>\n",
       "      <td>1</td>\n",
       "      <td>2</td>\n",
       "      <td>0</td>\n",
       "      <td>0.003862</td>\n",
       "      <td>0.047062</td>\n",
       "    </tr>\n",
       "    <tr>\n",
       "      <th>28</th>\n",
       "      <td>51.5142</td>\n",
       "      <td>-0.1494</td>\n",
       "      <td>Bond Street</td>\n",
       "      <td>1</td>\n",
       "      <td>2</td>\n",
       "      <td>0</td>\n",
       "      <td>0.004143</td>\n",
       "      <td>0.042528</td>\n",
       "    </tr>\n",
       "    <tr>\n",
       "      <th>285</th>\n",
       "      <td>51.5010</td>\n",
       "      <td>-0.1254</td>\n",
       "      <td>Westminster</td>\n",
       "      <td>1</td>\n",
       "      <td>3</td>\n",
       "      <td>0</td>\n",
       "      <td>0.004058</td>\n",
       "      <td>0.035861</td>\n",
       "    </tr>\n",
       "    <tr>\n",
       "      <th>279</th>\n",
       "      <td>51.5036</td>\n",
       "      <td>-0.1143</td>\n",
       "      <td>Waterloo</td>\n",
       "      <td>1</td>\n",
       "      <td>4</td>\n",
       "      <td>1</td>\n",
       "      <td>0.006082</td>\n",
       "      <td>0.033215</td>\n",
       "    </tr>\n",
       "    <tr>\n",
       "      <th>259</th>\n",
       "      <td>51.5165</td>\n",
       "      <td>-0.1310</td>\n",
       "      <td>Tottenham Court Road</td>\n",
       "      <td>1</td>\n",
       "      <td>2</td>\n",
       "      <td>0</td>\n",
       "      <td>0.004067</td>\n",
       "      <td>0.031668</td>\n",
       "    </tr>\n",
       "    <tr>\n",
       "      <th>151</th>\n",
       "      <td>51.5113</td>\n",
       "      <td>-0.1281</td>\n",
       "      <td>Leicester Square</td>\n",
       "      <td>1</td>\n",
       "      <td>2</td>\n",
       "      <td>0</td>\n",
       "      <td>0.004019</td>\n",
       "      <td>0.031330</td>\n",
       "    </tr>\n",
       "    <tr>\n",
       "      <th>11</th>\n",
       "      <td>51.5226</td>\n",
       "      <td>-0.1571</td>\n",
       "      <td>Baker Street</td>\n",
       "      <td>1</td>\n",
       "      <td>5</td>\n",
       "      <td>0</td>\n",
       "      <td>0.007613</td>\n",
       "      <td>0.029949</td>\n",
       "    </tr>\n",
       "    <tr>\n",
       "      <th>13</th>\n",
       "      <td>51.5133</td>\n",
       "      <td>-0.0886</td>\n",
       "      <td>Bank</td>\n",
       "      <td>1</td>\n",
       "      <td>4</td>\n",
       "      <td>0</td>\n",
       "      <td>0.007140</td>\n",
       "      <td>0.028016</td>\n",
       "    </tr>\n",
       "  </tbody>\n",
       "</table>\n",
       "</div>"
      ],
      "text/plain": [
       "     latitude  longitude                  name  zone  total_lines  rail  \\\n",
       "id                                                                        \n",
       "192   51.5150    -0.1415         Oxford Circus     1            3     0   \n",
       "107   51.5067    -0.1428            Green Park     1            3     0   \n",
       "197   51.5098    -0.1342      Picadilly Circus     1            2     0   \n",
       "28    51.5142    -0.1494           Bond Street     1            2     0   \n",
       "285   51.5010    -0.1254           Westminster     1            3     0   \n",
       "279   51.5036    -0.1143              Waterloo     1            4     1   \n",
       "259   51.5165    -0.1310  Tottenham Court Road     1            2     0   \n",
       "151   51.5113    -0.1281      Leicester Square     1            2     0   \n",
       "11    51.5226    -0.1571          Baker Street     1            5     0   \n",
       "13    51.5133    -0.0886                  Bank     1            4     0   \n",
       "\n",
       "     pagerank      hits  \n",
       "id                       \n",
       "192  0.005757  0.059742  \n",
       "107  0.005852  0.059523  \n",
       "197  0.003862  0.047062  \n",
       "28   0.004143  0.042528  \n",
       "285  0.004058  0.035861  \n",
       "279  0.006082  0.033215  \n",
       "259  0.004067  0.031668  \n",
       "151  0.004019  0.031330  \n",
       "11   0.007613  0.029949  \n",
       "13   0.007140  0.028016  "
      ]
     },
     "execution_count": 12,
     "metadata": {},
     "output_type": "execute_result"
    }
   ],
   "source": [
    "stations.sort_values('hits', ascending=False).head(10)"
   ]
  },
  {
   "cell_type": "markdown",
   "metadata": {},
   "source": [
    "Where PageRank finds the important stations, the HITS algorithm seems to be pretty good at finding the busy stations, still without any traffic data! Neat!"
   ]
  },
  {
   "cell_type": "markdown",
   "metadata": {},
   "source": [
    "## A realistic graph"
   ]
  },
  {
   "cell_type": "markdown",
   "metadata": {},
   "source": [
    "The above data looks good, but the graph is terribly simple. It assumed that there is no inherent cost to switching trains at a station. This is definitely not true. A train change at a station takes at least as long as going one average stop.\n",
    "\n",
    "To model this, we need to put edges between the lines at each station. For example, instead of having a single 'Oxford Circus' node in our graph, we will now have the nodes 'Oxford Circus' (to represent entrance and exit of the main station), 'Oxford Circus - Central Line', 'Oxford Circus - Victoria Line', etc. Think of it like each line has its own layer in a 3d tube map, and when 2 lines share a station there is an edge between the layers at that point."
   ]
  },
  {
   "cell_type": "markdown",
   "metadata": {},
   "source": [
    "This graph still isn't quite accurate to the real world. The nodes should really be platforms instead of stops on a line. For example, the District and Circle lines share a lot of platforms. But using this approach, we can easily model the time it takes to switch between lines. "
   ]
  },
  {
   "cell_type": "code",
   "execution_count": 13,
   "metadata": {
    "collapsed": false
   },
   "outputs": [],
   "source": [
    "stations.drop(['pagerank', 'hits'], axis=1, inplace=True)"
   ]
  },
  {
   "cell_type": "code",
   "execution_count": 14,
   "metadata": {
    "collapsed": false
   },
   "outputs": [],
   "source": [
    "graph = nx.Graph()\n",
    "\n",
    "for connection_id, connection in connections.iterrows():\n",
    "    line_name = lines.ix[connection.line]['name']\n",
    "    station1_name = stations.ix[connection.station1]['name']\n",
    "    station2_name = stations.ix[connection.station2]['name']\n",
    "\n",
    "    #Oxford Circus - Central Line\n",
    "    node1_name = \"%s - %s\" % (station1_name, line_name)\n",
    "    node2_name = \"%s - %s\" % (station2_name, line_name)\n",
    "    \n",
    "    #\"Bond Street - Central Line\" to \"Oxford Circus - Central Line\"\n",
    "    graph.add_edge(node1_name, node2_name,    time = connection['time'])\n",
    "    \n",
    "    #\"Oxford Circus - Central Line\" to \"Oxford Circus\"\n",
    "    graph.add_edge(node1_name, station1_name, time = 1)\n",
    "    graph.add_edge(node2_name, station2_name, time = 1)\n",
    "    \n",
    "    #\"Oxford Circus - Central Line\" to \"Oxford Circus - Victoria Line\"\n",
    "    for neighbor in graph.neighbors(station1_name):\n",
    "        graph.add_edge(node1_name, neighbor, time = 0.5)        \n",
    "    for neighbor in graph.neighbors(station2_name):\n",
    "        graph.add_edge(node2_name, neighbor, time = 0.5)\n",
    "        \n",
    "graph.add_edge('Bank', 'Monument', time = 1)"
   ]
  },
  {
   "cell_type": "markdown",
   "metadata": {},
   "source": [
    "We attach a weight to each edge, which is just the inverse of the time"
   ]
  },
  {
   "cell_type": "code",
   "execution_count": 15,
   "metadata": {
    "collapsed": true
   },
   "outputs": [],
   "source": [
    "for node1, neighbors in graph.edge.iteritems():\n",
    "    for node2, edge in neighbors.iteritems():\n",
    "        graph[node1][node2]['weight'] = 1.0 / edge['time']"
   ]
  },
  {
   "cell_type": "markdown",
   "metadata": {},
   "source": [
    "To get an idea of what the graph looks like, we can inspect it a little"
   ]
  },
  {
   "cell_type": "code",
   "execution_count": 16,
   "metadata": {
    "collapsed": false
   },
   "outputs": [
    {
     "data": {
      "text/plain": [
       "['Oxford Circus - Bakerloo Line',\n",
       " 'Oxford Circus - Victoria Line',\n",
       " 'Oxford Circus - Central Line']"
      ]
     },
     "execution_count": 16,
     "metadata": {},
     "output_type": "execute_result"
    }
   ],
   "source": [
    "graph.neighbors('Oxford Circus')"
   ]
  },
  {
   "cell_type": "code",
   "execution_count": 17,
   "metadata": {
    "collapsed": false
   },
   "outputs": [
    {
     "data": {
      "text/plain": [
       "['Oxford Circus',\n",
       " 'Tottenham Court Road - Central Line',\n",
       " 'Oxford Circus - Bakerloo Line',\n",
       " 'Oxford Circus - Central Line',\n",
       " 'Oxford Circus - Victoria Line',\n",
       " 'Bond Street - Central Line']"
      ]
     },
     "execution_count": 17,
     "metadata": {},
     "output_type": "execute_result"
    }
   ],
   "source": [
    "graph.neighbors('Oxford Circus - Central Line')"
   ]
  },
  {
   "cell_type": "code",
   "execution_count": 18,
   "metadata": {
    "collapsed": false
   },
   "outputs": [
    {
     "data": {
      "text/plain": [
       "['Oxford Circus',\n",
       " 'Oxford Circus - Victoria Line',\n",
       " 'Green Park - Victoria Line',\n",
       " 'Green Park - Jubilee Line',\n",
       " 'Westminster - Jubilee Line',\n",
       " 'Waterloo - Jubilee Line',\n",
       " 'Southwark - Jubilee Line',\n",
       " 'London Bridge - Jubilee Line',\n",
       " 'Bermondsey - Jubilee Line',\n",
       " 'Canada Water - Jubilee Line',\n",
       " 'Canary Wharf - Jubilee Line',\n",
       " 'Canary Wharf']"
      ]
     },
     "execution_count": 18,
     "metadata": {},
     "output_type": "execute_result"
    }
   ],
   "source": [
    "nx.shortest_path(graph, 'Oxford Circus', 'Canary Wharf', weight='time')"
   ]
  },
  {
   "cell_type": "markdown",
   "metadata": {},
   "source": [
    "Lets see what PageRank thinks of our more realistic graph"
   ]
  },
  {
   "cell_type": "code",
   "execution_count": 19,
   "metadata": {
    "collapsed": true
   },
   "outputs": [],
   "source": [
    "pagerank = nx.pagerank_numpy(graph, weight='weight')\n",
    "pagerank = pd.DataFrame(pagerank.items(), columns=['name', 'pagerank'])\n",
    "stations = pd.merge(stations, pagerank, on='name', right_index=True)"
   ]
  },
  {
   "cell_type": "markdown",
   "metadata": {},
   "source": [
    "A stations pagerank score, should probably be the sum of its own score, plus that of its platforms"
   ]
  },
  {
   "cell_type": "code",
   "execution_count": 20,
   "metadata": {
    "collapsed": true
   },
   "outputs": [],
   "source": [
    "def node_name_to_pagerank(node_name):\n",
    "    return pagerank[pagerank['name'] == node_name]['pagerank'].iloc[0]"
   ]
  },
  {
   "cell_type": "code",
   "execution_count": 21,
   "metadata": {
    "collapsed": false
   },
   "outputs": [],
   "source": [
    "for station_id, station in stations.iterrows():\n",
    "    for neighbor in graph.neighbors(station['name']):\n",
    "        stations.ix[station_id, 'pagerank'] += node_name_to_pagerank(neighbor)"
   ]
  },
  {
   "cell_type": "code",
   "execution_count": 22,
   "metadata": {
    "collapsed": false
   },
   "outputs": [
    {
     "data": {
      "text/html": [
       "<div>\n",
       "<table border=\"1\" class=\"dataframe\">\n",
       "  <thead>\n",
       "    <tr style=\"text-align: right;\">\n",
       "      <th></th>\n",
       "      <th>latitude</th>\n",
       "      <th>longitude</th>\n",
       "      <th>name</th>\n",
       "      <th>zone</th>\n",
       "      <th>total_lines</th>\n",
       "      <th>rail</th>\n",
       "      <th>pagerank</th>\n",
       "    </tr>\n",
       "    <tr>\n",
       "      <th>id</th>\n",
       "      <th></th>\n",
       "      <th></th>\n",
       "      <th></th>\n",
       "      <th></th>\n",
       "      <th></th>\n",
       "      <th></th>\n",
       "      <th></th>\n",
       "    </tr>\n",
       "  </thead>\n",
       "  <tbody>\n",
       "    <tr>\n",
       "      <th>145</th>\n",
       "      <td>51.5308</td>\n",
       "      <td>-0.1238</td>\n",
       "      <td>King's Cross St. Pancras</td>\n",
       "      <td>1.0</td>\n",
       "      <td>6</td>\n",
       "      <td>1</td>\n",
       "      <td>0.013119</td>\n",
       "    </tr>\n",
       "    <tr>\n",
       "      <th>11</th>\n",
       "      <td>51.5226</td>\n",
       "      <td>-0.1571</td>\n",
       "      <td>Baker Street</td>\n",
       "      <td>1.0</td>\n",
       "      <td>5</td>\n",
       "      <td>0</td>\n",
       "      <td>0.010972</td>\n",
       "    </tr>\n",
       "    <tr>\n",
       "      <th>13</th>\n",
       "      <td>51.5133</td>\n",
       "      <td>-0.0886</td>\n",
       "      <td>Bank</td>\n",
       "      <td>1.0</td>\n",
       "      <td>4</td>\n",
       "      <td>0</td>\n",
       "      <td>0.009416</td>\n",
       "    </tr>\n",
       "    <tr>\n",
       "      <th>193</th>\n",
       "      <td>51.5154</td>\n",
       "      <td>-0.1755</td>\n",
       "      <td>Paddington</td>\n",
       "      <td>1.0</td>\n",
       "      <td>4</td>\n",
       "      <td>1</td>\n",
       "      <td>0.009205</td>\n",
       "    </tr>\n",
       "    <tr>\n",
       "      <th>279</th>\n",
       "      <td>51.5036</td>\n",
       "      <td>-0.1143</td>\n",
       "      <td>Waterloo</td>\n",
       "      <td>1.0</td>\n",
       "      <td>4</td>\n",
       "      <td>1</td>\n",
       "      <td>0.008860</td>\n",
       "    </tr>\n",
       "    <tr>\n",
       "      <th>87</th>\n",
       "      <td>51.5074</td>\n",
       "      <td>-0.1223</td>\n",
       "      <td>Embankment</td>\n",
       "      <td>1.0</td>\n",
       "      <td>4</td>\n",
       "      <td>0</td>\n",
       "      <td>0.008329</td>\n",
       "    </tr>\n",
       "    <tr>\n",
       "      <th>167</th>\n",
       "      <td>51.5186</td>\n",
       "      <td>-0.0886</td>\n",
       "      <td>Moorgate</td>\n",
       "      <td>1.0</td>\n",
       "      <td>4</td>\n",
       "      <td>1</td>\n",
       "      <td>0.008037</td>\n",
       "    </tr>\n",
       "    <tr>\n",
       "      <th>156</th>\n",
       "      <td>51.5178</td>\n",
       "      <td>-0.0823</td>\n",
       "      <td>Liverpool Street</td>\n",
       "      <td>1.0</td>\n",
       "      <td>4</td>\n",
       "      <td>1</td>\n",
       "      <td>0.008005</td>\n",
       "    </tr>\n",
       "    <tr>\n",
       "      <th>110</th>\n",
       "      <td>51.4936</td>\n",
       "      <td>-0.2251</td>\n",
       "      <td>Hammersmith</td>\n",
       "      <td>2.0</td>\n",
       "      <td>3</td>\n",
       "      <td>0</td>\n",
       "      <td>0.007002</td>\n",
       "    </tr>\n",
       "    <tr>\n",
       "      <th>186</th>\n",
       "      <td>51.5094</td>\n",
       "      <td>-0.1967</td>\n",
       "      <td>Notting Hill Gate</td>\n",
       "      <td>1.5</td>\n",
       "      <td>3</td>\n",
       "      <td>0</td>\n",
       "      <td>0.006799</td>\n",
       "    </tr>\n",
       "  </tbody>\n",
       "</table>\n",
       "</div>"
      ],
      "text/plain": [
       "     latitude  longitude                      name  zone  total_lines  rail  \\\n",
       "id                                                                            \n",
       "145   51.5308    -0.1238  King's Cross St. Pancras   1.0            6     1   \n",
       "11    51.5226    -0.1571              Baker Street   1.0            5     0   \n",
       "13    51.5133    -0.0886                      Bank   1.0            4     0   \n",
       "193   51.5154    -0.1755                Paddington   1.0            4     1   \n",
       "279   51.5036    -0.1143                  Waterloo   1.0            4     1   \n",
       "87    51.5074    -0.1223                Embankment   1.0            4     0   \n",
       "167   51.5186    -0.0886                  Moorgate   1.0            4     1   \n",
       "156   51.5178    -0.0823          Liverpool Street   1.0            4     1   \n",
       "110   51.4936    -0.2251               Hammersmith   2.0            3     0   \n",
       "186   51.5094    -0.1967         Notting Hill Gate   1.5            3     0   \n",
       "\n",
       "     pagerank  \n",
       "id             \n",
       "145  0.013119  \n",
       "11   0.010972  \n",
       "13   0.009416  \n",
       "193  0.009205  \n",
       "279  0.008860  \n",
       "87   0.008329  \n",
       "167  0.008037  \n",
       "156  0.008005  \n",
       "110  0.007002  \n",
       "186  0.006799  "
      ]
     },
     "execution_count": 22,
     "metadata": {},
     "output_type": "execute_result"
    }
   ],
   "source": [
    "stations.sort_values('pagerank', ascending=False).head(10)"
   ]
  },
  {
   "cell_type": "markdown",
   "metadata": {
    "collapsed": false
   },
   "source": [
    "The results seem just slightly more intuitive than our previous list. Notable differences with our earlier run of PageRank are that this list ranks Moorgate, Hammersmith, and Notting Hill Gate higher, but Earl's Court is no longer in the top 10. Its difficult to compare the lists quantifiably, and objectively say one is better than the other. I guess you would have to survey London commuters and ask them to rank their most important stations."
   ]
  },
  {
   "cell_type": "code",
   "execution_count": 23,
   "metadata": {
    "collapsed": false
   },
   "outputs": [],
   "source": [
    "hits = nx.hits(graph)\n",
    "hits = pd.DataFrame(hits[0].items(), columns=['name', 'hits'])\n",
    "stations = pd.merge(stations, hits, on='name', right_index=True)"
   ]
  },
  {
   "cell_type": "markdown",
   "metadata": {},
   "source": [
    "## Edge Rank"
   ]
  },
  {
   "cell_type": "markdown",
   "metadata": {},
   "source": [
    "Now that we have a more complex representation of the tube graph, we can do some more interesting stuff. Wouldn't it be fun to see which connections, as opposed to end points, are the most important to the system? Intuitively, I reckon that the pathway between Bank and Monument should be important."
   ]
  },
  {
   "cell_type": "markdown",
   "metadata": {},
   "source": [
    "But of course, PageRank only works on nodes, not edges. So we transform our graph to its line graph representation. Each edge in the original graph becomes a node in the line graph. Edges in the line graph exist if there was a common node between two edges in the original."
   ]
  },
  {
   "cell_type": "markdown",
   "metadata": {},
   "source": [
    "Original, I tried to perform PageRank on the [line graph](https://en.wikipedia.org/wiki/Line_graph) of the original, but the results from this were terrible, no better than nonsense. Then I tried again with the HITS algorithm. The results were better, but still not very good."
   ]
  },
  {
   "cell_type": "code",
   "execution_count": 24,
   "metadata": {
    "collapsed": false
   },
   "outputs": [
    {
     "data": {
      "text/html": [
       "<div>\n",
       "<table border=\"1\" class=\"dataframe\">\n",
       "  <thead>\n",
       "    <tr style=\"text-align: right;\">\n",
       "      <th></th>\n",
       "      <th>node1</th>\n",
       "      <th>node2</th>\n",
       "      <th>edgerank</th>\n",
       "    </tr>\n",
       "  </thead>\n",
       "  <tbody>\n",
       "    <tr>\n",
       "      <th>142</th>\n",
       "      <td>King's Cross St. Pancras - Circle Line</td>\n",
       "      <td>King's Cross St. Pancras - Hammersmith &amp; City Line</td>\n",
       "      <td>0.028982</td>\n",
       "    </tr>\n",
       "    <tr>\n",
       "      <th>720</th>\n",
       "      <td>King's Cross St. Pancras - Circle Line</td>\n",
       "      <td>King's Cross St. Pancras - Metropolitan Line</td>\n",
       "      <td>0.028982</td>\n",
       "    </tr>\n",
       "    <tr>\n",
       "      <th>224</th>\n",
       "      <td>King's Cross St. Pancras - Hammersmith &amp; City Line</td>\n",
       "      <td>King's Cross St. Pancras - Metropolitan Line</td>\n",
       "      <td>0.028982</td>\n",
       "    </tr>\n",
       "    <tr>\n",
       "      <th>395</th>\n",
       "      <td>King's Cross St. Pancras - Circle Line</td>\n",
       "      <td>King's Cross St. Pancras - Northern Line</td>\n",
       "      <td>0.028845</td>\n",
       "    </tr>\n",
       "    <tr>\n",
       "      <th>119</th>\n",
       "      <td>King's Cross St. Pancras - Hammersmith &amp; City Line</td>\n",
       "      <td>King's Cross St. Pancras - Northern Line</td>\n",
       "      <td>0.028845</td>\n",
       "    </tr>\n",
       "  </tbody>\n",
       "</table>\n",
       "</div>"
      ],
      "text/plain": [
       "                                                  node1  \\\n",
       "142              King's Cross St. Pancras - Circle Line   \n",
       "720              King's Cross St. Pancras - Circle Line   \n",
       "224  King's Cross St. Pancras - Hammersmith & City Line   \n",
       "395              King's Cross St. Pancras - Circle Line   \n",
       "119  King's Cross St. Pancras - Hammersmith & City Line   \n",
       "\n",
       "                                                  node2  edgerank  \n",
       "142  King's Cross St. Pancras - Hammersmith & City Line  0.028982  \n",
       "720        King's Cross St. Pancras - Metropolitan Line  0.028982  \n",
       "224        King's Cross St. Pancras - Metropolitan Line  0.028982  \n",
       "395            King's Cross St. Pancras - Northern Line  0.028845  \n",
       "119            King's Cross St. Pancras - Northern Line  0.028845  "
      ]
     },
     "execution_count": 24,
     "metadata": {},
     "output_type": "execute_result"
    }
   ],
   "source": [
    "linegraph = nx.line_graph(graph)\n",
    "edgerank = nx.hits(linegraph)\n",
    "edgerank = pd.DataFrame([(k[0], k[1], v) for k, v in edgerank[0].items()], columns=['node1', 'node2', 'edgerank'])\n",
    "edgerank.sort_values('edgerank', ascending=False).head()"
   ]
  },
  {
   "cell_type": "markdown",
   "metadata": {},
   "source": [
    "The connections between the nodes in the most important stations dominate the top of the list, generally clustering by which station they belong to. Not terribly interesting to look at. "
   ]
  },
  {
   "cell_type": "markdown",
   "metadata": {},
   "source": [
    "## Edge Rank V2"
   ]
  },
  {
   "cell_type": "markdown",
   "metadata": {},
   "source": [
    "With the failure of the linegraph method, I wanted to find a new method to rank edges. Two obvious heuristics come to mind.\n",
    "1. Rank edges by the sum of the PageRank scores of the nodes they connect \n",
    "2. Rank edges by the number of times they appear in paths from one node to another"
   ]
  },
  {
   "cell_type": "markdown",
   "metadata": {},
   "source": [
    "#### Method 1 "
   ]
  },
  {
   "cell_type": "code",
   "execution_count": 25,
   "metadata": {
    "collapsed": true
   },
   "outputs": [],
   "source": [
    "def node_to_station_pagerank(node_name):\n",
    "    station_name = node_name.split(' - ')[0]\n",
    "    return stations[stations['name'] == station_name]['pagerank'].iloc[0]"
   ]
  },
  {
   "cell_type": "code",
   "execution_count": 26,
   "metadata": {
    "collapsed": false
   },
   "outputs": [],
   "source": [
    "edgerank = edgerank[edgerank['node1'] != edgerank['node2']]\n",
    "for edge_id, edge in edgerank.iterrows():\n",
    "    score = node_name_to_pagerank(edge['node1']) + node_name_to_pagerank(edge['node2'])\n",
    "    edgerank.set_value(edge_id, 'edgerank', score)"
   ]
  },
  {
   "cell_type": "code",
   "execution_count": 27,
   "metadata": {
    "collapsed": false
   },
   "outputs": [
    {
     "data": {
      "text/html": [
       "<div>\n",
       "<table border=\"1\" class=\"dataframe\">\n",
       "  <thead>\n",
       "    <tr style=\"text-align: right;\">\n",
       "      <th></th>\n",
       "      <th>node1</th>\n",
       "      <th>node2</th>\n",
       "      <th>edgerank</th>\n",
       "    </tr>\n",
       "  </thead>\n",
       "  <tbody>\n",
       "    <tr>\n",
       "      <th>1146</th>\n",
       "      <td>Stockwell - Northern Line</td>\n",
       "      <td>Stockwell - Victoria Line</td>\n",
       "      <td>0.004502</td>\n",
       "    </tr>\n",
       "    <tr>\n",
       "      <th>418</th>\n",
       "      <td>West Finchley - Northern Line</td>\n",
       "      <td>Woodside Park - Northern Line</td>\n",
       "      <td>0.004494</td>\n",
       "    </tr>\n",
       "    <tr>\n",
       "      <th>242</th>\n",
       "      <td>Ruislip Gardens - Central Line</td>\n",
       "      <td>South Ruislip - Central Line</td>\n",
       "      <td>0.004475</td>\n",
       "    </tr>\n",
       "    <tr>\n",
       "      <th>877</th>\n",
       "      <td>Balham - Northern Line</td>\n",
       "      <td>Tooting Bec - Northern Line</td>\n",
       "      <td>0.004467</td>\n",
       "    </tr>\n",
       "    <tr>\n",
       "      <th>997</th>\n",
       "      <td>Poplar - Docklands Light Railway</td>\n",
       "      <td>Westferry - Docklands Light Railway</td>\n",
       "      <td>0.004464</td>\n",
       "    </tr>\n",
       "  </tbody>\n",
       "</table>\n",
       "</div>"
      ],
      "text/plain": [
       "                                 node1                                node2  \\\n",
       "1146         Stockwell - Northern Line            Stockwell - Victoria Line   \n",
       "418      West Finchley - Northern Line        Woodside Park - Northern Line   \n",
       "242     Ruislip Gardens - Central Line         South Ruislip - Central Line   \n",
       "877             Balham - Northern Line          Tooting Bec - Northern Line   \n",
       "997   Poplar - Docklands Light Railway  Westferry - Docklands Light Railway   \n",
       "\n",
       "      edgerank  \n",
       "1146  0.004502  \n",
       "418   0.004494  \n",
       "242   0.004475  \n",
       "877   0.004467  \n",
       "997   0.004464  "
      ]
     },
     "execution_count": 27,
     "metadata": {},
     "output_type": "execute_result"
    }
   ],
   "source": [
    "edgerank.sort_values('edgerank', ascending=False).head()"
   ]
  },
  {
   "cell_type": "markdown",
   "metadata": {},
   "source": [
    "Hmm, not very promising. Lets try another way"
   ]
  },
  {
   "cell_type": "markdown",
   "metadata": {},
   "source": [
    "#### Method 2"
   ]
  },
  {
   "cell_type": "markdown",
   "metadata": {},
   "source": [
    "NetworkX provides a very simple way of calculating all possible shortest paths around your graph. It uses the [Floyd-Warshall algorithm](https://en.wikipedia.org/wiki/Floyd%E2%80%93Warshall_algorithm) to generate a list shortest paths from every possible origin to every possible destination in just a few minutes."
   ]
  },
  {
   "cell_type": "code",
   "execution_count": 28,
   "metadata": {
    "collapsed": false
   },
   "outputs": [],
   "source": [
    "all_shortest_paths = nx.floyd_warshall_predecessor_and_distance(graph, weight='time')[0]"
   ]
  },
  {
   "cell_type": "markdown",
   "metadata": {},
   "source": [
    "This gives us a dictionary of dictionaries. The first maps origins to the inner dictionaries. The inner dictionaries map a destination to the preceeding node in the shortest path to that destination. We can backtrack along this path and count up every time our path crossed an edge. The idea is that the more times we cross an edge, the more important it is."
   ]
  },
  {
   "cell_type": "code",
   "execution_count": 29,
   "metadata": {
    "collapsed": false
   },
   "outputs": [],
   "source": [
    "counter = Counter()\n",
    "for station in stations['name']:\n",
    "    for destination, pred in all_shortest_paths[station].iteritems(): \n",
    "        if any(stations['name'] == destination):\n",
    "            while not pred == station:\n",
    "                counter[tuple(sorted([destination, pred]))] += 1\n",
    "                destination, pred = pred, all_shortest_paths[station][pred]"
   ]
  },
  {
   "cell_type": "code",
   "execution_count": 30,
   "metadata": {
    "collapsed": false
   },
   "outputs": [
    {
     "data": {
      "text/html": [
       "<div>\n",
       "<table border=\"1\" class=\"dataframe\">\n",
       "  <thead>\n",
       "    <tr style=\"text-align: right;\">\n",
       "      <th></th>\n",
       "      <th>node1</th>\n",
       "      <th>node2</th>\n",
       "      <th>edgerank</th>\n",
       "    </tr>\n",
       "  </thead>\n",
       "  <tbody>\n",
       "    <tr>\n",
       "      <th>272</th>\n",
       "      <td>Baker Street - Jubilee Line</td>\n",
       "      <td>Bond Street - Jubilee Line</td>\n",
       "      <td>19766</td>\n",
       "    </tr>\n",
       "    <tr>\n",
       "      <th>764</th>\n",
       "      <td>Bethnal Green - Central Line</td>\n",
       "      <td>Liverpool Street - Central Line</td>\n",
       "      <td>18274</td>\n",
       "    </tr>\n",
       "    <tr>\n",
       "      <th>242</th>\n",
       "      <td>Bethnal Green - Central Line</td>\n",
       "      <td>Mile End - Central Line</td>\n",
       "      <td>17896</td>\n",
       "    </tr>\n",
       "    <tr>\n",
       "      <th>797</th>\n",
       "      <td>Bond Street - Central Line</td>\n",
       "      <td>Oxford Circus - Central Line</td>\n",
       "      <td>16914</td>\n",
       "    </tr>\n",
       "    <tr>\n",
       "      <th>446</th>\n",
       "      <td>Baker Street - Metropolitan Line</td>\n",
       "      <td>Finchley Road - Metropolitan Line</td>\n",
       "      <td>15990</td>\n",
       "    </tr>\n",
       "  </tbody>\n",
       "</table>\n",
       "</div>"
      ],
      "text/plain": [
       "                                node1                              node2  \\\n",
       "272       Baker Street - Jubilee Line         Bond Street - Jubilee Line   \n",
       "764      Bethnal Green - Central Line    Liverpool Street - Central Line   \n",
       "242      Bethnal Green - Central Line            Mile End - Central Line   \n",
       "797        Bond Street - Central Line       Oxford Circus - Central Line   \n",
       "446  Baker Street - Metropolitan Line  Finchley Road - Metropolitan Line   \n",
       "\n",
       "     edgerank  \n",
       "272     19766  \n",
       "764     18274  \n",
       "242     17896  \n",
       "797     16914  \n",
       "446     15990  "
      ]
     },
     "execution_count": 30,
     "metadata": {},
     "output_type": "execute_result"
    }
   ],
   "source": [
    "edgerank = pd.DataFrame([(k[0], k[1], v) for k, v in counter.items()], columns=['node1', 'node2', 'edgerank'])\n",
    "edgerank.sort_values('edgerank', ascending=False).head()"
   ]
  },
  {
   "cell_type": "markdown",
   "metadata": {},
   "source": [
    "Its not what I was expecting, but it seems like a pretty sound list. Although the Bank to Monument passage is used much less than I would have thought. This could be just some bias from me, since I know I use it quite a bit."
   ]
  },
  {
   "cell_type": "code",
   "execution_count": 31,
   "metadata": {
    "collapsed": false
   },
   "outputs": [
    {
     "data": {
      "text/html": [
       "<div>\n",
       "<table border=\"1\" class=\"dataframe\">\n",
       "  <thead>\n",
       "    <tr style=\"text-align: right;\">\n",
       "      <th></th>\n",
       "      <th>node1</th>\n",
       "      <th>node2</th>\n",
       "      <th>edgerank</th>\n",
       "    </tr>\n",
       "  </thead>\n",
       "  <tbody>\n",
       "    <tr>\n",
       "      <th>109</th>\n",
       "      <td>Bank</td>\n",
       "      <td>Monument</td>\n",
       "      <td>1442</td>\n",
       "    </tr>\n",
       "  </tbody>\n",
       "</table>\n",
       "</div>"
      ],
      "text/plain": [
       "    node1     node2  edgerank\n",
       "109  Bank  Monument      1442"
      ]
     },
     "execution_count": 31,
     "metadata": {},
     "output_type": "execute_result"
    }
   ],
   "source": [
    "edgerank[(edgerank['node1'] == 'Bank') & (edgerank['node2'] == 'Monument')]"
   ]
  },
  {
   "cell_type": "markdown",
   "metadata": {},
   "source": [
    "What are the most used intra-station connections?"
   ]
  },
  {
   "cell_type": "code",
   "execution_count": 32,
   "metadata": {
    "collapsed": true
   },
   "outputs": [],
   "source": [
    "def node_name_to_station(node_name):\n",
    "    return node_name.split(' - ')[0]\n",
    "\n",
    "node_name_to_station = np.vectorize(node_name_to_station)"
   ]
  },
  {
   "cell_type": "code",
   "execution_count": 33,
   "metadata": {
    "collapsed": false
   },
   "outputs": [
    {
     "data": {
      "text/html": [
       "<div>\n",
       "<table border=\"1\" class=\"dataframe\">\n",
       "  <thead>\n",
       "    <tr style=\"text-align: right;\">\n",
       "      <th></th>\n",
       "      <th>node1</th>\n",
       "      <th>node2</th>\n",
       "      <th>edgerank</th>\n",
       "    </tr>\n",
       "  </thead>\n",
       "  <tbody>\n",
       "    <tr>\n",
       "      <th>140</th>\n",
       "      <td>Bond Street - Central Line</td>\n",
       "      <td>Bond Street - Jubilee Line</td>\n",
       "      <td>14134</td>\n",
       "    </tr>\n",
       "    <tr>\n",
       "      <th>844</th>\n",
       "      <td>South Kensington - Circle Line</td>\n",
       "      <td>South Kensington - Piccadilly Line</td>\n",
       "      <td>13400</td>\n",
       "    </tr>\n",
       "    <tr>\n",
       "      <th>383</th>\n",
       "      <td>Baker Street - Jubilee Line</td>\n",
       "      <td>Baker Street - Metropolitan Line</td>\n",
       "      <td>12164</td>\n",
       "    </tr>\n",
       "    <tr>\n",
       "      <th>116</th>\n",
       "      <td>Westminster - Circle Line</td>\n",
       "      <td>Westminster - Jubilee Line</td>\n",
       "      <td>8682</td>\n",
       "    </tr>\n",
       "    <tr>\n",
       "      <th>115</th>\n",
       "      <td>Mile End - Central Line</td>\n",
       "      <td>Mile End - District Line</td>\n",
       "      <td>7852</td>\n",
       "    </tr>\n",
       "    <tr>\n",
       "      <th>728</th>\n",
       "      <td>Euston - Northern Line</td>\n",
       "      <td>Euston - Victoria Line</td>\n",
       "      <td>6952</td>\n",
       "    </tr>\n",
       "    <tr>\n",
       "      <th>558</th>\n",
       "      <td>Victoria - Circle Line</td>\n",
       "      <td>Victoria - Victoria Line</td>\n",
       "      <td>6652</td>\n",
       "    </tr>\n",
       "    <tr>\n",
       "      <th>660</th>\n",
       "      <td>Waterloo - Jubilee Line</td>\n",
       "      <td>Waterloo - Waterloo &amp; City Line</td>\n",
       "      <td>5976</td>\n",
       "    </tr>\n",
       "    <tr>\n",
       "      <th>745</th>\n",
       "      <td>Canary Wharf - Docklands Light Railway</td>\n",
       "      <td>Canary Wharf - Jubilee Line</td>\n",
       "      <td>5738</td>\n",
       "    </tr>\n",
       "    <tr>\n",
       "      <th>294</th>\n",
       "      <td>Oxford Circus - Central Line</td>\n",
       "      <td>Oxford Circus - Victoria Line</td>\n",
       "      <td>4980</td>\n",
       "    </tr>\n",
       "  </tbody>\n",
       "</table>\n",
       "</div>"
      ],
      "text/plain": [
       "                                      node1  \\\n",
       "140              Bond Street - Central Line   \n",
       "844          South Kensington - Circle Line   \n",
       "383             Baker Street - Jubilee Line   \n",
       "116               Westminster - Circle Line   \n",
       "115                 Mile End - Central Line   \n",
       "728                  Euston - Northern Line   \n",
       "558                  Victoria - Circle Line   \n",
       "660                 Waterloo - Jubilee Line   \n",
       "745  Canary Wharf - Docklands Light Railway   \n",
       "294            Oxford Circus - Central Line   \n",
       "\n",
       "                                  node2  edgerank  \n",
       "140          Bond Street - Jubilee Line     14134  \n",
       "844  South Kensington - Piccadilly Line     13400  \n",
       "383    Baker Street - Metropolitan Line     12164  \n",
       "116          Westminster - Jubilee Line      8682  \n",
       "115            Mile End - District Line      7852  \n",
       "728              Euston - Victoria Line      6952  \n",
       "558            Victoria - Victoria Line      6652  \n",
       "660     Waterloo - Waterloo & City Line      5976  \n",
       "745         Canary Wharf - Jubilee Line      5738  \n",
       "294       Oxford Circus - Victoria Line      4980  "
      ]
     },
     "execution_count": 33,
     "metadata": {},
     "output_type": "execute_result"
    }
   ],
   "source": [
    "intra_station_edgeranks = edgerank[node_name_to_station(edgerank['node1']) == node_name_to_station(edgerank['node2'])]\n",
    "intra_station_edgeranks.sort_values('edgerank', ascending=False).head(10)"
   ]
  },
  {
   "cell_type": "markdown",
   "metadata": {},
   "source": [
    "This looks like a very sensible list. These pathways are usually pretty busy. Next time you're passing through one of those passage ways, see if its optimized!"
   ]
  },
  {
   "cell_type": "markdown",
   "metadata": {},
   "source": [
    "## Conclusion "
   ]
  },
  {
   "cell_type": "markdown",
   "metadata": {},
   "source": [
    "Who would have thought that PageRank and some simple heuristics could produce such intuitive results about the London Tube? I know I was blown away when I quickly tested the idea with the simple graph, I wasn't expecting it to work that nicely at all."
   ]
  },
  {
   "cell_type": "markdown",
   "metadata": {},
   "source": [
    "At one point during this write up, I had the idea that this information could be useful to TFL, and the people designing the network. But then I realised this I've probably backwards, and that it's not quite true. The fact that PageRank picked out a lot of big, important stations is no mistake. The underground network has been designed this way. These algorithms and heuristics do not inform the network designers, it is probably the designers that inform the algorithms. They have structured their network in a logic way, and all we have done is verify that. Our algorithms worked only as well as the network was designed."
   ]
  }
 ],
 "metadata": {
  "kernelspec": {
   "display_name": "Python 2",
   "language": "python",
   "name": "python2"
  },
  "language_info": {
   "codemirror_mode": {
    "name": "ipython",
    "version": 2
   },
   "file_extension": ".py",
   "mimetype": "text/x-python",
   "name": "python",
   "nbconvert_exporter": "python",
   "pygments_lexer": "ipython2",
   "version": "2.7.11"
  }
 },
 "nbformat": 4,
 "nbformat_minor": 0
}
